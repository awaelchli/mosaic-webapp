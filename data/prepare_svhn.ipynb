{
 "cells": [
  {
   "cell_type": "code",
   "execution_count": 2,
   "metadata": {},
   "outputs": [
    {
     "name": "stdout",
     "output_type": "stream",
     "text": [
      "Using downloaded and verified file: ./svhn/train_32x32.mat\n"
     ]
    }
   ],
   "source": [
    "import torchvision\n",
    "import torch\n",
    "from torchvision.transforms import transforms\n",
    "import pickle\n",
    "import os\n",
    "\n",
    "\n",
    "dataset = torchvision.datasets.SVHN(\n",
    "    './svhn/',\n",
    "    split='train',\n",
    "    transform=transforms.ToTensor(),\n",
    "    target_transform=None,\n",
    "    download=True\n",
    ")\n",
    "\n",
    "data = [x for x, _ in dataset]\n",
    "data = torch.stack(data).permute(0, 2, 3, 1).numpy()\n",
    "# shape of data is (?, 32, 32, 3)\n",
    "\n",
    "os.makedirs('../features/svhn', exist_ok=True)\n",
    "with open('../features/svhn/raw.pkl', 'wb') as file:\n",
    "    pickle.dump(data, file)\n"
   ]
  },
  {
   "cell_type": "code",
   "execution_count": null,
   "metadata": {},
   "outputs": [],
   "source": []
  }
 ],
 "metadata": {
  "kernelspec": {
   "display_name": "Python 3",
   "language": "python",
   "name": "python3"
  },
  "language_info": {
   "codemirror_mode": {
    "name": "ipython",
    "version": 3
   },
   "file_extension": ".py",
   "mimetype": "text/x-python",
   "name": "python",
   "nbconvert_exporter": "python",
   "pygments_lexer": "ipython3",
   "version": "3.6.9"
  }
 },
 "nbformat": 4,
 "nbformat_minor": 2
}
