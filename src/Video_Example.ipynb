{
 "cells": [
  {
   "cell_type": "markdown",
   "metadata": {},
   "source": [
    "# Reading and Writing Video\n",
    "\n",
    "Here is an example of how to read and write video files in Python."
   ]
  },
  {
   "cell_type": "code",
   "execution_count": null,
   "metadata": {},
   "outputs": [],
   "source": [
    "from IPython.display import Video\n",
    "from PIL import Image\n",
    "import skvideo.io\n",
    "import skvideo.datasets\n",
    "import cv2\n",
    "import os\n",
    "import numpy as np\n",
    "import subprocess\n",
    "import shutil\n",
    "import glob\n",
    "\n",
    "# on some systems this is necessary\n",
    "os.environ['IMAGEIO_FFMPEG_EXE'] = '/usr/bin/ffmpeg'"
   ]
  },
  {
   "cell_type": "code",
   "execution_count": null,
   "metadata": {},
   "outputs": [],
   "source": [
    "video_file = 'videos/bunny.mp4'\n",
    "output_file = 'output/example_video.avi'\n",
    "\n",
    "print('This is the input video:')\n",
    "Video(video_file)"
   ]
  },
  {
   "cell_type": "code",
   "execution_count": null,
   "metadata": {},
   "outputs": [],
   "source": [
    "def extract_frames(video_file, output_dir, fps=24, ext='png'):\n",
    "    shutil.rmtree(output_dir)\n",
    "    os.makedirs(output_dir, exist_ok=True)\n",
    "    out = os.path.join(output_dir, f'frame%03d.{ext}')\n",
    "    subprocess.run([\n",
    "        'ffmpeg', \n",
    "        '-i',\n",
    "        video_file,\n",
    "        '-vf',\n",
    "        f'fps={fps}',\n",
    "        out,\n",
    "        '-hide_banner',\n",
    "    ])"
   ]
  },
  {
   "cell_type": "code",
   "execution_count": null,
   "metadata": {},
   "outputs": [],
   "source": [
    "def process_frames(folder, output_file, ext='png'):\n",
    "    files = glob.glob(os.path.join(folder, f'*.{ext}'))\n",
    "    files.sort()\n",
    "    \n",
    "    writer = skvideo.io.FFmpegWriter(output_file)\n",
    "    \n",
    "    for i, file in enumerate(files):\n",
    "        image = Image.open(file).convert('RGB')\n",
    "        image = np.array(image) / 255.\n",
    "        \n",
    "        # process the image\n",
    "        # image = process(image)\n",
    "        \n",
    "        writer.writeFrame(image * 255)"
   ]
  },
  {
   "cell_type": "code",
   "execution_count": null,
   "metadata": {},
   "outputs": [],
   "source": [
    "extract_frames(video_file, './video_frames/')\n",
    "process_frames('./video_frames/', output_file)\n",
    "\n",
    "Video(output_file)"
   ]
  },
  {
   "cell_type": "code",
   "execution_count": null,
   "metadata": {},
   "outputs": [],
   "source": []
  }
 ],
 "metadata": {
  "kernelspec": {
   "display_name": "Python 3",
   "language": "python",
   "name": "python3"
  },
  "language_info": {
   "codemirror_mode": {
    "name": "ipython",
    "version": 3
   },
   "file_extension": ".py",
   "mimetype": "text/x-python",
   "name": "python",
   "nbconvert_exporter": "python",
   "pygments_lexer": "ipython3",
   "version": "3.6.9"
  }
 },
 "nbformat": 4,
 "nbformat_minor": 2
}
