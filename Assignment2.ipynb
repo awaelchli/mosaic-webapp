{
 "cells": [
  {
   "cell_type": "code",
   "execution_count": null,
   "metadata": {},
   "outputs": [],
   "source": [
    "import os\n",
    "import random\n",
    "import numpy as np\n",
    "import pickle\n",
    "\n",
    "import matplotlib.pyplot as plt\n",
    "from PIL import Image\n",
    "from sklearn.cluster import KMeans\n",
    "from sklearn.metrics import pairwise_distances_argmin_min\n",
    "\n",
    "import utils\n",
    "from base import Base"
   ]
  },
  {
   "cell_type": "code",
   "execution_count": null,
   "metadata": {},
   "outputs": [],
   "source": [
    "class Assignment2(Base):\n",
    "\n",
    "    def __init__(self):\n",
    "        super(Assignment2, self).__init__()\n",
    "        self.data = pickle.load(open('./features/cifar10/raw.pkl', 'rb'))\n",
    "        self.kmeans = self.get_model()\n",
    "        self.closest = None\n",
    "\n",
    "    def get_model(self):\n",
    "        \"\"\"\n",
    "        TO BE IMPLEMENTED BY STUDENT\n",
    "\n",
    "        \"\"\"\n",
    "        pass\n",
    "\n",
    "    def train(self, train=True):\n",
    "        model_file = 'models/kmeans.pkl'\n",
    "        if train:\n",
    "            data = self.data.reshape(len(self.data), -1)\n",
    "            self.kmeans.fit(data)\n",
    "            self.closest, _ = pairwise_distances_argmin_min(self.kmeans.cluster_centers_, data)\n",
    "            with open(model_file, 'wb') as f:\n",
    "                pickle.dump((self.kmeans, self.closest), f)\n",
    "        else:\n",
    "            with open(model_file, 'rb') as f:\n",
    "                self.kmeans, self.closest = pickle.load(f)\n",
    "\n",
    "    def get_patch(self, tile):\n",
    "        cluster_indices = self.kmeans.predict(tile.reshape(1, -1))\n",
    "        patch = self.data[self.closest[cluster_indices[0]]]\n",
    "        return patch"
   ]
  },
  {
   "cell_type": "code",
   "execution_count": null,
   "metadata": {},
   "outputs": [],
   "source": [
    "os.makedirs('output/A2/mosaics/', exist_ok=True)\n",
    "os.makedirs('models', exist_ok=True)"
   ]
  },
  {
   "cell_type": "code",
   "execution_count": null,
   "metadata": {},
   "outputs": [],
   "source": [
    "\"\"\"\n",
    "Assignment 2 - Clustering\n",
    "\n",
    "\"\"\"\n",
    "\n",
    "# The program will start execution here\n",
    "# Change the filename to load your favourite picture\n",
    "file = './images/eye2.jpg'\n",
    "train = False\n",
    "\n",
    "img = Image.open(file).convert('RGB')\n",
    "img = utils.resize_proportional(img, new_height=900)\n",
    "target_image = np.array(img) / 255\n",
    "\n",
    "# This will execute the Mosaicking algorithm of Assignment 2\n",
    "main = Assignment2()\n",
    "main.train(train)\n",
    "output_image = main.mosaic(target_image)\n",
    "\n",
    "# Saving the image inside in project root folder\n",
    "output_image *= 255\n",
    "im = Image.fromarray(output_image.astype('uint8'))\n",
    "im.save(utils.datetime_filename('output/A2/mosaics/mosaic.png'))"
   ]
  },
  {
   "cell_type": "markdown",
   "metadata": {},
   "source": [
    "# Testing"
   ]
  },
  {
   "cell_type": "code",
   "execution_count": null,
   "metadata": {},
   "outputs": [],
   "source": [
    "# Setup\n",
    "main = Assignment2()\n",
    "main.train(False)\n",
    "make_folders()\n",
    "    \n",
    "os.makedirs('output/A2_test/clusters', exist_ok=True)"
   ]
  },
  {
   "cell_type": "code",
   "execution_count": null,
   "metadata": {},
   "outputs": [],
   "source": [
    "# test cluster\n",
    "clusters = [5, 6, 7]\n",
    "num_cols = 5\n",
    "num_rows = len(clusters)\n",
    "\n",
    "i = 0\n",
    "for row in range(num_rows):\n",
    "    cluster = clusters[row]\n",
    "    cluster_center = main.data[main.closest[cluster]]\n",
    "    labels = main.kmeans.labels_\n",
    "    cluster_indices = [i for i, l in enumerate(labels) if l == cluster]\n",
    "\n",
    "    d = main.kmeans.transform(main.data.reshape(len(main.data), -1))[:, cluster]\n",
    "    ind = np.argsort(d)[:num_cols]\n",
    "    closest = main.data[ind]\n",
    "\n",
    "    for col in range(num_cols):\n",
    "        i += 1\n",
    "\n",
    "        # else:\n",
    "        # patch_idx = random.choice(cluster_indices)\n",
    "        # patch = main.data[patch_idx]\n",
    "        patch = closest[col]\n",
    "        # grid plot of size 2 x num_cols\n",
    "        plt.subplot(num_rows, num_cols, i)\n",
    "        if col == 0:\n",
    "            plt.title('Center')\n",
    "        # plt.title(str(patch_idx))\n",
    "        plt.imshow(patch)\n",
    "\n",
    "fig = plt.gcf()\n",
    "plt.show()\n",
    "fname = utils.datetime_filename('output/A2_test/clusters/samples.png')\n",
    "fig.savefig(fname, format='png', dpi=300)"
   ]
  }
 ],
 "metadata": {
  "kernelspec": {
   "display_name": "Python 3",
   "language": "python",
   "name": "python3"
  },
  "language_info": {
   "codemirror_mode": {
    "name": "ipython",
    "version": 3
   },
   "file_extension": ".py",
   "mimetype": "text/x-python",
   "name": "python",
   "nbconvert_exporter": "python",
   "pygments_lexer": "ipython3",
   "version": "3.6.9"
  }
 },
 "nbformat": 4,
 "nbformat_minor": 2
}
